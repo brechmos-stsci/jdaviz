{
 "cells": [
  {
   "cell_type": "code",
   "execution_count": 2,
   "metadata": {},
   "outputs": [
    {
     "data": {
      "text/html": [
       "<style>.container { width:100% !important; }</style>"
      ],
      "text/plain": [
       "<IPython.core.display.HTML object>"
      ]
     },
     "metadata": {},
     "output_type": "display_data"
    }
   ],
   "source": [
    "from IPython.core.display import display, HTML\n",
    "display(HTML(\"<style>.container { width:100% !important; }</style>\"))\n"
   ]
  },
  {
   "cell_type": "markdown",
   "metadata": {},
   "source": [
    "## ViewerND Example"
   ]
  },
  {
   "cell_type": "markdown",
   "metadata": {},
   "source": [
    "This is an example method to create a ViewerND object in a Jupyter Notebook.\n",
    "\n",
    "**This is a work in progress and the structure will likely change**"
   ]
  },
  {
   "cell_type": "code",
   "execution_count": 3,
   "metadata": {},
   "outputs": [],
   "source": [
    "filename = '../../../cubeviz/data/manga-7495-12704-LOGCUBE_fixed.fits.gz'"
   ]
  },
  {
   "cell_type": "markdown",
   "metadata": {},
   "source": [
    "### Create the VizApp for state information"
   ]
  },
  {
   "cell_type": "code",
   "execution_count": 4,
   "metadata": {},
   "outputs": [
    {
     "name": "stderr",
     "output_type": "stream",
     "text": [
      "/opt/miniconda3/lib/python3.7/site-packages/matplotlib/__init__.py:996: UserWarning: Illegal line #1\n",
      "\t\"import matplotlib \n",
      "\"\n",
      "\tin file \"/home/craig/.config/matplotlib/matplotlibrc\"\n",
      "  warnings.warn('Illegal %s' % error_details)\n",
      "/opt/miniconda3/lib/python3.7/site-packages/matplotlib/__init__.py:996: UserWarning: Illegal line #2\n",
      "\t\"matplotlib.use('Agg')\n",
      "\"\n",
      "\tin file \"/home/craig/.config/matplotlib/matplotlibrc\"\n",
      "  warnings.warn('Illegal %s' % error_details)\n"
     ]
    }
   ],
   "source": [
    "from jdaviz.vizcomponents.viewer import Viewer1D\n",
    "from jdaviz.vizcomponents.vizapp import VizApp\n",
    "vizapp = VizApp()"
   ]
  },
  {
   "cell_type": "code",
   "execution_count": 5,
   "metadata": {},
   "outputs": [
    {
     "name": "stderr",
     "output_type": "stream",
     "text": [
      "WARNING: FITSFixedWarning: PLATEID = 7495 / Current plate \n",
      "a string value was expected. [astropy.wcs.wcs]\n",
      "WARNING:astropy:FITSFixedWarning: PLATEID = 7495 / Current plate \n",
      "a string value was expected.\n"
     ]
    },
    {
     "data": {
      "text/plain": [
       "[[Data (label: manga-7495-12704-LOGCUBE_fixed.fits[FLUX]),\n",
       "  Data (label: manga-7495-12704-LOGCUBE_fixed.fits[IVAR]),\n",
       "  Data (label: manga-7495-12704-LOGCUBE_fixed.fits[MASK]),\n",
       "  Data (label: manga-7495-12704-LOGCUBE_fixed.fits[WAVE]),\n",
       "  Data (label: manga-7495-12704-LOGCUBE_fixed.fits[SPECRES]),\n",
       "  Data (label: manga-7495-12704-LOGCUBE_fixed.fits[SPECRESD]),\n",
       "  Data (label: manga-7495-12704-LOGCUBE_fixed.fits[OBSINFO]),\n",
       "  Data (label: manga-7495-12704-LOGCUBE_fixed.fits[UIMG]),\n",
       "  Data (label: manga-7495-12704-LOGCUBE_fixed.fits[GIMG]),\n",
       "  Data (label: manga-7495-12704-LOGCUBE_fixed.fits[RIMG]),\n",
       "  Data (label: manga-7495-12704-LOGCUBE_fixed.fits[IIMG]),\n",
       "  Data (label: manga-7495-12704-LOGCUBE_fixed.fits[ZIMG]),\n",
       "  Data (label: manga-7495-12704-LOGCUBE_fixed.fits[UPSF]),\n",
       "  Data (label: manga-7495-12704-LOGCUBE_fixed.fits[GPSF]),\n",
       "  Data (label: manga-7495-12704-LOGCUBE_fixed.fits[RPSF]),\n",
       "  Data (label: manga-7495-12704-LOGCUBE_fixed.fits[IPSF]),\n",
       "  Data (label: manga-7495-12704-LOGCUBE_fixed.fits[ZPSF])]]"
      ]
     },
     "execution_count": 5,
     "metadata": {},
     "output_type": "execute_result"
    }
   ],
   "source": [
    "vizapp.glue_app.add_data(filename)"
   ]
  },
  {
   "cell_type": "markdown",
   "metadata": {},
   "source": [
    "### Create ND Viewer and Show"
   ]
  },
  {
   "cell_type": "code",
   "execution_count": 6,
   "metadata": {},
   "outputs": [
    {
     "name": "stderr",
     "output_type": "stream",
     "text": [
      "/opt/miniconda3/lib/python3.7/site-packages/glue/viewers/common/viewer.py:179: UserWarning: Add large data set?\n",
      "  warnings.warn(message)\n"
     ]
    }
   ],
   "source": [
    "vnd = Viewer1D(vizapp)"
   ]
  },
  {
   "cell_type": "code",
   "execution_count": 7,
   "metadata": {},
   "outputs": [
    {
     "data": {
      "application/vnd.jupyter.widget-view+json": {
       "model_id": "dd08c51879e24889861bc99622fc1901",
       "version_major": 2,
       "version_minor": 0
      },
      "text/plain": [
       "Box(children=(VBox(children=(HBox(children=(BasicJupyterToolbar(children=(ToggleButton(children=(Image(value=b…"
      ]
     },
     "metadata": {},
     "output_type": "display_data"
    }
   ],
   "source": [
    "vnd.show()"
   ]
  },
  {
   "cell_type": "code",
   "execution_count": 12,
   "metadata": {},
   "outputs": [
    {
     "data": {
      "text/plain": [
       "['__abstractmethods__',\n",
       " '__class__',\n",
       " '__delattr__',\n",
       " '__dict__',\n",
       " '__dir__',\n",
       " '__doc__',\n",
       " '__eq__',\n",
       " '__format__',\n",
       " '__ge__',\n",
       " '__getattribute__',\n",
       " '__getitem__',\n",
       " '__gt__',\n",
       " '__hash__',\n",
       " '__init__',\n",
       " '__init_subclass__',\n",
       " '__le__',\n",
       " '__lt__',\n",
       " '__module__',\n",
       " '__ne__',\n",
       " '__new__',\n",
       " '__reduce__',\n",
       " '__reduce_ex__',\n",
       " '__repr__',\n",
       " '__setattr__',\n",
       " '__setitem__',\n",
       " '__sizeof__',\n",
       " '__str__',\n",
       " '__subclasshook__',\n",
       " '__weakref__',\n",
       " '_abc_impl',\n",
       " '_check_can_add',\n",
       " '_components',\n",
       " '_coordinate_links',\n",
       " '_coords',\n",
       " '_create_pixel_and_world_components',\n",
       " '_externally_derivable_components',\n",
       " '_ipython_key_completions_',\n",
       " '_key_joins',\n",
       " '_label',\n",
       " '_load_log',\n",
       " '_pixel_aligned_data',\n",
       " '_pixel_component_ids',\n",
       " '_removed_derived_that_depend_on',\n",
       " '_set_externally_derivable_components',\n",
       " '_set_pixel_aligned_data',\n",
       " '_set_up_coordinate_component_links',\n",
       " '_shape',\n",
       " '_subsets',\n",
       " '_update_pixel_components',\n",
       " '_update_world_components',\n",
       " '_world_component_ids',\n",
       " 'add_component',\n",
       " 'add_component_link',\n",
       " 'add_subset',\n",
       " 'broadcast',\n",
       " 'component_ids',\n",
       " 'components',\n",
       " 'compute_fixed_resolution_buffer',\n",
       " 'compute_histogram',\n",
       " 'compute_statistic',\n",
       " 'coordinate_components',\n",
       " 'coordinate_links',\n",
       " 'coords',\n",
       " 'data',\n",
       " 'derived_components',\n",
       " 'derived_links',\n",
       " 'dtype',\n",
       " 'edit_subset',\n",
       " 'externally_derivable_components',\n",
       " 'find_component_id',\n",
       " 'get_component',\n",
       " 'get_data',\n",
       " 'get_kind',\n",
       " 'get_mask',\n",
       " 'hub',\n",
       " 'id',\n",
       " 'join_on_key',\n",
       " 'label',\n",
       " 'links',\n",
       " 'main_components',\n",
       " 'meta',\n",
       " 'ndim',\n",
       " 'new_subset',\n",
       " 'pixel_aligned_data',\n",
       " 'pixel_component_ids',\n",
       " 'primary_components',\n",
       " 'register_to_hub',\n",
       " 'remove_component',\n",
       " 'reorder_components',\n",
       " 'shape',\n",
       " 'size',\n",
       " 'style',\n",
       " 'subsets',\n",
       " 'to_dataframe',\n",
       " 'update_components',\n",
       " 'update_id',\n",
       " 'update_values_from_data',\n",
       " 'uuid',\n",
       " 'visible_components',\n",
       " 'world_component_ids']"
      ]
     },
     "execution_count": 12,
     "metadata": {},
     "output_type": "execute_result"
    }
   ],
   "source": [
    "dir(vnd._v1d.state.layers[0].layer)"
   ]
  },
  {
   "cell_type": "code",
   "execution_count": 8,
   "metadata": {},
   "outputs": [
    {
     "ename": "IndexError",
     "evalue": "tuple index out of range",
     "output_type": "error",
     "traceback": [
      "\u001b[0;31m---------------------------------------------------------------------------\u001b[0m",
      "\u001b[0;31mIndexError\u001b[0m                                Traceback (most recent call last)",
      "\u001b[0;32m<ipython-input-8-c7aadd60f01d>\u001b[0m in \u001b[0;36m<module>\u001b[0;34m\u001b[0m\n\u001b[0;32m----> 1\u001b[0;31m \u001b[0mvnd\u001b[0m\u001b[0;34m.\u001b[0m\u001b[0m_v1d\u001b[0m\u001b[0;34m.\u001b[0m\u001b[0mstate\u001b[0m\u001b[0;34m.\u001b[0m\u001b[0mlayers\u001b[0m\u001b[0;34m[\u001b[0m\u001b[0;36m0\u001b[0m\u001b[0;34m]\u001b[0m\u001b[0;34m.\u001b[0m\u001b[0mlayer\u001b[0m\u001b[0;34m.\u001b[0m\u001b[0msubsets\u001b[0m\u001b[0;34m[\u001b[0m\u001b[0;36m0\u001b[0m\u001b[0;34m]\u001b[0m\u001b[0;34m.\u001b[0m\u001b[0mdata\u001b[0m\u001b[0;34m\u001b[0m\u001b[0;34m\u001b[0m\u001b[0m\n\u001b[0m",
      "\u001b[0;31mIndexError\u001b[0m: tuple index out of range"
     ]
    }
   ],
   "source": [
    "vnd._v1d.state.layers[0].layer.subsets[0]"
   ]
  },
  {
   "cell_type": "code",
   "execution_count": null,
   "metadata": {},
   "outputs": [],
   "source": []
  }
 ],
 "metadata": {
  "kernelspec": {
   "display_name": "Python 3",
   "language": "python",
   "name": "python3"
  },
  "language_info": {
   "codemirror_mode": {
    "name": "ipython",
    "version": 3
   },
   "file_extension": ".py",
   "mimetype": "text/x-python",
   "name": "python",
   "nbconvert_exporter": "python",
   "pygments_lexer": "ipython3",
   "version": "3.7.1"
  }
 },
 "nbformat": 4,
 "nbformat_minor": 2
}
